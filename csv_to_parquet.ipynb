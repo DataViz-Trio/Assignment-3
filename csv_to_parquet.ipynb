{
 "cells": [
  {
   "cell_type": "code",
   "execution_count": null,
   "metadata": {},
   "outputs": [],
   "source": [
    "# import relevant packages / modules\n",
    "import pandas as pd\n",
    "import numpy\n",
    "import statistics\n",
    "import folium\n",
    "import geopy\n",
    "from folium.plugins import HeatMap\n",
    "import branca.colormap\n",
    "from collections import defaultdict\n",
    "service = geopy.Nominatim(user_agent = \"myGeocoder\")"
   ]
  },
  {
   "cell_type": "code",
   "execution_count": null,
   "metadata": {},
   "outputs": [],
   "source": [
    "df=pd.read_csv(\"./Crime_Data_from_2020_to_Present.csv\")\n",
    "df"
   ]
  },
  {
   "cell_type": "code",
   "execution_count": null,
   "metadata": {},
   "outputs": [],
   "source": [
    "df.loc[:,\"DR_NO\":'Mocodes']"
   ]
  },
  {
   "cell_type": "code",
   "execution_count": null,
   "metadata": {},
   "outputs": [],
   "source": [
    "df.shape"
   ]
  },
  {
   "cell_type": "code",
   "execution_count": null,
   "metadata": {},
   "outputs": [],
   "source": [
    "df.dtypes"
   ]
  },
  {
   "cell_type": "code",
   "execution_count": null,
   "metadata": {},
   "outputs": [],
   "source": [
    "df.drop_duplicates(inplace=True)\n",
    "df.shape"
   ]
  },
  {
   "cell_type": "code",
   "execution_count": null,
   "metadata": {},
   "outputs": [],
   "source": [
    "null_value_percentages=(df.isna().sum()/df.shape[0])*100\n",
    "null_value_percentages"
   ]
  },
  {
   "cell_type": "code",
   "execution_count": null,
   "metadata": {},
   "outputs": [],
   "source": [
    "df[\"Vict Sex\"].unique()"
   ]
  },
  {
   "cell_type": "code",
   "execution_count": null,
   "metadata": {},
   "outputs": [],
   "source": [
    "columns_with_null_values = null_value_percentages[null_value_percentages>0]\n",
    "columns_with_null_values"
   ]
  },
  {
   "cell_type": "code",
   "execution_count": null,
   "metadata": {},
   "outputs": [],
   "source": [
    "df[\"Vict Descent\"].unique()"
   ]
  },
  {
   "cell_type": "code",
   "execution_count": null,
   "metadata": {},
   "outputs": [],
   "source": [
    "columns_to_drop=null_value_percentages[null_value_percentages>40]\n",
    "columns_to_drop=columns_to_drop.keys()\n",
    "print(columns_to_drop)\n",
    "df.drop(['Mocodes'], axis=1,inplace=True)\n",
    "df"
   ]
  },
  {
   "cell_type": "code",
   "execution_count": null,
   "metadata": {},
   "outputs": [],
   "source": [
    "import matplotlib.pyplot as plt\n",
    "import seaborn as sns"
   ]
  },
  {
   "cell_type": "code",
   "execution_count": null,
   "metadata": {},
   "outputs": [],
   "source": [
    "sns.boxplot(df[\"AREA\"])\n",
    "plt.figure(figsize=(10, 10))\n",
    "plt.show()"
   ]
  },
  {
   "cell_type": "code",
   "execution_count": null,
   "metadata": {},
   "outputs": [],
   "source": [
    "df['Crm Cd Desc'].unique()"
   ]
  },
  {
   "cell_type": "code",
   "execution_count": null,
   "metadata": {},
   "outputs": [],
   "source": [
    "p=df['DATE OCC'].unique()\n",
    "print(len(p))\n",
    "p"
   ]
  },
  {
   "cell_type": "markdown",
   "metadata": {},
   "source": [
    "## Location Heatmap"
   ]
  },
  {
   "cell_type": "code",
   "execution_count": null,
   "metadata": {},
   "outputs": [],
   "source": [
    "df = df[(df['LAT'] != 0) & (df['LON'] != 0)]"
   ]
  },
  {
   "cell_type": "code",
   "execution_count": null,
   "metadata": {},
   "outputs": [],
   "source": [
    "df[\"AREA NAME\"].value_counts()"
   ]
  },
  {
   "cell_type": "code",
   "execution_count": null,
   "metadata": {},
   "outputs": [],
   "source": [
    "def create_heat_map(area_name,month):\n",
    "    if(area_name!=\"All\"):\n",
    "        filtered_df = df[df[\"AREA NAME\"] == area_name]\n",
    "    else:\n",
    "        filtered_df = df\n",
    "    \n",
    "    filtered_df['DATE OCC'] = pd.to_datetime(filtered_df['DATE OCC'])\n",
    "    filtered_df = filtered_df[filtered_df['DATE OCC'].dt.month == month]\n",
    "    \n",
    "    crime_map = folium.Map(location=[filtered_df['LAT'].mean(), filtered_df['LON'].mean()], zoom_start=12)\n",
    "    heat_data = filtered_df[['LAT', 'LON']].values.tolist()\n",
    "\n",
    "    normalized_heat_data = [[point[0], point[1], 1.0] for point in heat_data]  # Normalize intensity to 1.0\n",
    "\n",
    "    HeatMap(normalized_heat_data, radius=15, max_zoom=18).add_to(crime_map)  # Set max_zoom to control color consistency\n",
    "\n",
    "    crime_map.save(f'{area_name}-{month}.html')\n",
    "    crime_map\n",
    "\n",
    "\n",
    "for i in range(1,13):\n",
    "    create_heat_map(\"All\",i)"
   ]
  }
 ],
 "metadata": {
  "kernelspec": {
   "display_name": "base",
   "language": "python",
   "name": "python3"
  },
  "language_info": {
   "codemirror_mode": {
    "name": "ipython",
    "version": 3
   },
   "file_extension": ".py",
   "mimetype": "text/x-python",
   "name": "python",
   "nbconvert_exporter": "python",
   "pygments_lexer": "ipython3",
   "version": "3.10.0"
  },
  "orig_nbformat": 4
 },
 "nbformat": 4,
 "nbformat_minor": 2
}
